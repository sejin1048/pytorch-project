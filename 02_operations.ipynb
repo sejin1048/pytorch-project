{
 "cells": [
  {
   "cell_type": "markdown",
   "metadata": {},
   "source": [
    "## 02. 텐서의 연산"
   ]
  },
  {
   "cell_type": "code",
   "execution_count": 1,
   "metadata": {},
   "outputs": [],
   "source": [
    "import torch"
   ]
  },
  {
   "cell_type": "markdown",
   "metadata": {},
   "source": [
    "### 2-1. 산술 연산"
   ]
  },
  {
   "cell_type": "code",
   "execution_count": 18,
   "metadata": {},
   "outputs": [
    {
     "name": "stdout",
     "output_type": "stream",
     "text": [
      "tensor([[0.4845, 0.1688],\n",
      "        [0.0951, 0.0998]])\n",
      "tensor([[0.9690, 0.3376],\n",
      "        [0.1902, 0.1995]])\n",
      "tensor([[1.9690, 1.3376],\n",
      "        [1.1902, 1.1995]])\n"
     ]
    }
   ],
   "source": [
    "tensor = torch.rand(2,2)\n",
    "print(tensor)\n",
    "\n",
    "tensor = tensor * 2\n",
    "print(tensor)\n",
    "\n",
    "tensor = tensor + 1\n",
    "print(tensor)\n",
    "\n"
   ]
  },
  {
   "cell_type": "code",
   "execution_count": 27,
   "metadata": {},
   "outputs": [
    {
     "name": "stdout",
     "output_type": "stream",
     "text": [
      "tensor([[0.2336, 0.0515],\n",
      "        [0.2707, 0.3133]]) tensor([[0.8622, 0.3658],\n",
      "        [0.8913, 0.0134]])\n",
      "tensor([[1.0958, 0.4172],\n",
      "        [1.1621, 0.3268]])\n",
      "tensor([[1.0958, 0.4172],\n",
      "        [1.1621, 0.3268]])\n"
     ]
    }
   ],
   "source": [
    "# 여러개의 텐서를 연산\n",
    "x = torch.rand(2,2)\n",
    "y = torch.rand(2,2)\n",
    "add = torch.add(x,y) \n",
    "\n",
    "# print(x)\n",
    "# print(y)\n",
    "# print(x+y)\n",
    "# print(add)\n",
    "print(x,y)\n",
    "\n",
    "# in-place 바꿔치기 연산\n",
    "add = torch.add(x,y)\n",
    "print(add)\n",
    "y.add_(x) #앞에있는 값에 덮어 씌움\n",
    "print(y)"
   ]
  },
  {
   "cell_type": "code",
   "execution_count": 33,
   "metadata": {},
   "outputs": [
    {
     "name": "stdout",
     "output_type": "stream",
     "text": [
      "tensor([[ 0.0059,  0.5050],\n",
      "        [ 0.6340, -0.2019]])\n",
      "tensor([[ 0.0059,  0.5050],\n",
      "        [ 0.6340, -0.2019]])\n"
     ]
    }
   ],
   "source": [
    "# 빼기\n",
    "x = torch.rand(2,2)\n",
    "y = torch.rand(2,2)\n",
    "sub = torch.sub(x,y)\n",
    "print(x-y)\n",
    "print(sub) "
   ]
  },
  {
   "cell_type": "code",
   "execution_count": 35,
   "metadata": {},
   "outputs": [
    {
     "name": "stdout",
     "output_type": "stream",
     "text": [
      "tensor([[0.0437, 0.1617],\n",
      "        [0.1624, 0.2783]])\n",
      "tensor([[0.0437, 0.1617],\n",
      "        [0.1624, 0.2783]])\n"
     ]
    }
   ],
   "source": [
    "# 곱하기\n",
    "x = torch.rand(2,2)\n",
    "y = torch.rand(2,2)\n",
    "mul = torch.mul(x,y)\n",
    "print(x*y)\n",
    "print(mul) "
   ]
  },
  {
   "cell_type": "code",
   "execution_count": 37,
   "metadata": {},
   "outputs": [
    {
     "name": "stdout",
     "output_type": "stream",
     "text": [
      "tensor([[1.0163, 1.2845],\n",
      "        [3.8754, 2.0435]])\n",
      "tensor([[1.0163, 1.2845],\n",
      "        [3.8754, 2.0435]])\n"
     ]
    }
   ],
   "source": [
    "# 나누기\n",
    "x = torch.rand(2,2)\n",
    "y = torch.rand(2,2)\n",
    "div = torch.div(x,y)\n",
    "print(x/y)\n",
    "print(div) "
   ]
  }
 ],
 "metadata": {
  "kernelspec": {
   "display_name": "pytorch_env",
   "language": "python",
   "name": "python3"
  },
  "language_info": {
   "codemirror_mode": {
    "name": "ipython",
    "version": 3
   },
   "file_extension": ".py",
   "mimetype": "text/x-python",
   "name": "python",
   "nbconvert_exporter": "python",
   "pygments_lexer": "ipython3",
   "version": "3.12.8"
  }
 },
 "nbformat": 4,
 "nbformat_minor": 2
}
