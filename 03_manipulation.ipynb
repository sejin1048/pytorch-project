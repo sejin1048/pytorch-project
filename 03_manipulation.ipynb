{
 "cells": [
  {
   "cell_type": "markdown",
   "metadata": {},
   "source": [
    "## 03. Tensor의 조작"
   ]
  },
  {
   "cell_type": "markdown",
   "metadata": {},
   "source": [
    "### 3-1. 인덱싱, 슬라이싱\n",
    "- numpy처럼 활용 하면 됨"
   ]
  },
  {
   "cell_type": "code",
   "execution_count": 1,
   "metadata": {},
   "outputs": [],
   "source": [
    "import torch"
   ]
  },
  {
   "cell_type": "code",
   "execution_count": 14,
   "metadata": {},
   "outputs": [
    {
     "name": "stdout",
     "output_type": "stream",
     "text": [
      "tensor(2)\n",
      "tensor([1, 2])\n",
      "tensor(5)\n",
      "tensor([4, 5])\n"
     ]
    },
    {
     "data": {
      "text/plain": [
       "tensor([2, 6])"
      ]
     },
     "execution_count": 14,
     "metadata": {},
     "output_type": "execute_result"
    }
   ],
   "source": [
    "tensor = torch.tensor([[1,2],[3,4]])\n",
    "print(tensor[0,1])\n",
    "print(tensor[0,:])\n",
    "\n",
    "a = torch.tensor([1,2,3,4,5])\n",
    "print(a[-1])\n",
    "print(a[-2:])\n",
    "\n",
    "b = torch.tensor([[1,2,3],\n",
    "                  [4,5,6],\n",
    "                  [7,8,9]])\n",
    "c = b[b > 5] # 조건부 인덱싱\n",
    "d = b[b % 2 == 0]\n",
    "e = b[[0,1],[1,2]]#특정 배열의 값을 넣어서 인덱싱 할 수 있다.\n",
    "e"
   ]
  },
  {
   "cell_type": "markdown",
   "metadata": {},
   "source": [
    "### 3-2. 텐서의 크기, 모양 변경"
   ]
  },
  {
   "cell_type": "code",
   "execution_count": 34,
   "metadata": {},
   "outputs": [
    {
     "name": "stdout",
     "output_type": "stream",
     "text": [
      "tensor([[0.1916, 0.0511, 0.4924, 0.9549, 0.8586],\n",
      "        [0.8355, 0.0684, 0.6007, 0.5625, 0.6473],\n",
      "        [0.7449, 0.2723, 0.0314, 0.7557, 0.7782],\n",
      "        [0.3717, 0.8858, 0.0481, 0.3557, 0.3034]])\n",
      "tensor([[0.1916, 0.0511, 0.4924, 0.9549],\n",
      "        [0.8586, 0.8355, 0.0684, 0.6007],\n",
      "        [0.5625, 0.6473, 0.7449, 0.2723],\n",
      "        [0.0314, 0.7557, 0.7782, 0.3717],\n",
      "        [0.8858, 0.0481, 0.3557, 0.3034]])\n",
      "tensor([[0.1916, 0.0511],\n",
      "        [0.4924, 0.9549],\n",
      "        [0.8586, 0.8355],\n",
      "        [0.0684, 0.6007],\n",
      "        [0.5625, 0.6473],\n",
      "        [0.7449, 0.2723],\n",
      "        [0.0314, 0.7557],\n",
      "        [0.7782, 0.3717],\n",
      "        [0.8858, 0.0481],\n",
      "        [0.3557, 0.3034]])\n"
     ]
    }
   ],
   "source": [
    "t = torch.rand(4,5)\n",
    "print(t)\n",
    "\n",
    "x = t.view(5,4) #같은 형태로 값을 변경해야함\n",
    "print(x)\n",
    "\n",
    "y = t.view(10,-1) # -1쓰면 자동으로 나눠줌\n",
    "print(y)"
   ]
  },
  {
   "cell_type": "markdown",
   "metadata": {},
   "source": [
    "### 3-3. Tensor의 숫자값 얻기 (스칼라에 대해서만 가능)"
   ]
  },
  {
   "cell_type": "code",
   "execution_count": 38,
   "metadata": {},
   "outputs": [
    {
     "name": "stdout",
     "output_type": "stream",
     "text": [
      "10\n",
      "tensor([0.7241])\n",
      "0.7240814566612244\n"
     ]
    }
   ],
   "source": [
    "x = torch.tensor(10)\n",
    "print(x.item())\n",
    "\n",
    "y = torch.rand(1)\n",
    "print(y)\n",
    "print(y.item())"
   ]
  },
  {
   "cell_type": "markdown",
   "metadata": {},
   "source": [
    "### 3-4. 차원 축소와 증가"
   ]
  },
  {
   "cell_type": "markdown",
   "metadata": {},
   "source": [
    "#### 3-4-1. 차원축소\n",
    "- 'torch.squeeze()' : 크기가 1인 차원을 축소함(없앰)"
   ]
  },
  {
   "cell_type": "code",
   "execution_count": 43,
   "metadata": {},
   "outputs": [
    {
     "name": "stdout",
     "output_type": "stream",
     "text": [
      "tensor([[[0.1302, 0.7117, 0.4180],\n",
      "         [0.9449, 0.0938, 0.5024],\n",
      "         [0.1755, 0.6744, 0.5591]]])\n",
      "torch.Size([1, 3, 3])\n",
      "tensor([[0.1302, 0.7117, 0.4180],\n",
      "        [0.9449, 0.0938, 0.5024],\n",
      "        [0.1755, 0.6744, 0.5591]])\n",
      "torch.Size([3, 3])\n"
     ]
    }
   ],
   "source": [
    "t = torch.rand(1,3,3)\n",
    "print(t)\n",
    "print(t.shape)\n",
    "\n",
    "ts = torch.squeeze(t)\n",
    "print(ts)\n",
    "print(ts.shape)"
   ]
  },
  {
   "cell_type": "markdown",
   "metadata": {},
   "source": [
    "#### 3-4-2. 차원 증가(생성)\n",
    "- 'torch.unsqueeze()' : 지정한 위치에 새로운 차원을 생성"
   ]
  },
  {
   "cell_type": "code",
   "execution_count": 53,
   "metadata": {},
   "outputs": [
    {
     "name": "stdout",
     "output_type": "stream",
     "text": [
      "tensor([[[0.9184, 0.8339, 0.4877],\n",
      "         [0.5400, 0.9430, 0.9602],\n",
      "         [0.3666, 0.5863, 0.2468]],\n",
      "\n",
      "        [[0.5857, 0.5558, 0.5418],\n",
      "         [0.2544, 0.6326, 0.2425],\n",
      "         [0.8322, 0.6271, 0.7738]],\n",
      "\n",
      "        [[0.9658, 0.2509, 0.7947],\n",
      "         [0.6656, 0.3490, 0.8229],\n",
      "         [0.9727, 0.8285, 0.2877]]])\n",
      "torch.Size([3, 3, 3])\n",
      "tensor([[[[0.9184, 0.8339, 0.4877],\n",
      "          [0.5400, 0.9430, 0.9602],\n",
      "          [0.3666, 0.5863, 0.2468]]],\n",
      "\n",
      "\n",
      "        [[[0.5857, 0.5558, 0.5418],\n",
      "          [0.2544, 0.6326, 0.2425],\n",
      "          [0.8322, 0.6271, 0.7738]]],\n",
      "\n",
      "\n",
      "        [[[0.9658, 0.2509, 0.7947],\n",
      "          [0.6656, 0.3490, 0.8229],\n",
      "          [0.9727, 0.8285, 0.2877]]]])\n",
      "torch.Size([3, 1, 3, 3])\n"
     ]
    }
   ],
   "source": [
    "t = torch.rand(3,3,3)\n",
    "print(t)\n",
    "print(t.shape)\n",
    "\n",
    "ts = torch.unsqueeze(t, 1)\n",
    "print(ts)\n",
    "print(ts.shape)"
   ]
  },
  {
   "cell_type": "markdown",
   "metadata": {},
   "source": [
    "### 3-5. 텐서간 결합\n",
    "- 'torch.stack()' : 동일한 형식의 두개의 텐서를 새롭게 그룹화(하나로)함\n",
    "    - 새로운 차원이 생성"
   ]
  },
  {
   "cell_type": "code",
   "execution_count": 56,
   "metadata": {},
   "outputs": [
    {
     "name": "stdout",
     "output_type": "stream",
     "text": [
      "tensor([[[1, 2],\n",
      "         [3, 4]],\n",
      "\n",
      "        [[5, 6],\n",
      "         [7, 8]]])\n",
      "torch.Size([2, 2, 2])\n"
     ]
    }
   ],
   "source": [
    "x = torch.tensor([[1,2],\n",
    "                  [3,4]])\n",
    "y = torch.tensor([[5,6],\n",
    "                  [7,8]])\n",
    "z = torch.stack([x,y])\n",
    "print(z)\n",
    "print(z.shape)"
   ]
  },
  {
   "cell_type": "markdown",
   "metadata": {},
   "source": [
    "- 'torch.cat()' : 하나의 텐서로 병합\n",
    "    - 새로운 차원 생성 X\n",
    "    - cat은 형태(행의 원소의 갯수는 같고)가 같지 않아도 괜찮다. dim = 0일때"
   ]
  },
  {
   "cell_type": "code",
   "execution_count": 64,
   "metadata": {},
   "outputs": [
    {
     "name": "stdout",
     "output_type": "stream",
     "text": [
      "tensor([[1, 2],\n",
      "        [3, 4],\n",
      "        [5, 6],\n",
      "        [7, 8]])\n",
      "torch.Size([4, 2])\n"
     ]
    }
   ],
   "source": [
    "x = torch.tensor([[1,2],\n",
    "                  [3,4]])\n",
    "y = torch.tensor([[5,6],\n",
    "                  [7,8],]) \n",
    "z = torch.cat((x,y), dim = 0)\n",
    "print(z)\n",
    "print(z.shape)"
   ]
  },
  {
   "cell_type": "markdown",
   "metadata": {},
   "source": [
    "### 3-6. 텐서 나누기\n",
    "- 'torch.chunck()' : \n",
    "    - 텐서를 몇개로 나눌지 지정해서 나누는 것\n",
    "    - 나누어 떨어지지 않으면 마지막 조각은 크기가 다를 수 있음"
   ]
  },
  {
   "cell_type": "code",
   "execution_count": 73,
   "metadata": {},
   "outputs": [
    {
     "name": "stdout",
     "output_type": "stream",
     "text": [
      "tensor([[0.4159, 0.8186, 0.2231],\n",
      "        [0.4743, 0.9898, 0.2297],\n",
      "        [0.7434, 0.8217, 0.6189],\n",
      "        [0.8123, 0.2355, 0.8227],\n",
      "        [0.7949, 0.1302, 0.2770]])\n",
      "tensor([[0.4159, 0.8186, 0.2231],\n",
      "        [0.4743, 0.9898, 0.2297]])\n",
      "tensor([[0.7434, 0.8217, 0.6189],\n",
      "        [0.8123, 0.2355, 0.8227]])\n",
      "tensor([[0.7949, 0.1302, 0.2770]])\n"
     ]
    }
   ],
   "source": [
    "t = torch.rand(5,3)\n",
    "print(t)\n",
    "\n",
    "a,b,c = torch.chunk(t,3, dim = 0) #튜플형태로 받아옴\n",
    "print(a)\n",
    "print(b)\n",
    "print(c)"
   ]
  },
  {
   "cell_type": "markdown",
   "metadata": {},
   "source": [
    "- 'torch.split()'\n",
    "    - 텐서의 크기를 기준으로 나눔"
   ]
  },
  {
   "cell_type": "code",
   "execution_count": 89,
   "metadata": {},
   "outputs": [
    {
     "name": "stdout",
     "output_type": "stream",
     "text": [
      "tensor([[0.7649, 0.6059, 0.0902, 0.7992, 0.9653, 0.8624],\n",
      "        [0.8228, 0.9554, 0.5664, 0.2754, 0.5078, 0.0889],\n",
      "        [0.5753, 0.7522, 0.5603, 0.1711, 0.4898, 0.3355]])\n",
      "tensor([[0.7649, 0.6059, 0.0902],\n",
      "        [0.8228, 0.9554, 0.5664],\n",
      "        [0.5753, 0.7522, 0.5603]])\n",
      "tensor([[0.7992, 0.9653, 0.8624],\n",
      "        [0.2754, 0.5078, 0.0889],\n",
      "        [0.1711, 0.4898, 0.3355]])\n"
     ]
    }
   ],
   "source": [
    "t = torch.rand(3,6)\n",
    "print(t)\n",
    "\n",
    "x , y= torch.split(t,3,dim = 1)\n",
    "print(x)\n",
    "print(y)"
   ]
  },
  {
   "cell_type": "code",
   "execution_count": 91,
   "metadata": {},
   "outputs": [
    {
     "name": "stdout",
     "output_type": "stream",
     "text": [
      "tensor([1, 2, 3, 4, 5])\n",
      "tensor([1, 2])\n",
      "tensor([3, 4])\n",
      "tensor([5])\n"
     ]
    }
   ],
   "source": [
    "t = torch.tensor([1,2,3,4,5])\n",
    "print(t)\n",
    "\n",
    "x , y , z= torch.split(t,[2,2,1],dim = 0)\n",
    "print(x)\n",
    "print(y)\n",
    "print(z)"
   ]
  }
 ],
 "metadata": {
  "kernelspec": {
   "display_name": "pytorch_env",
   "language": "python",
   "name": "python3"
  },
  "language_info": {
   "codemirror_mode": {
    "name": "ipython",
    "version": 3
   },
   "file_extension": ".py",
   "mimetype": "text/x-python",
   "name": "python",
   "nbconvert_exporter": "python",
   "pygments_lexer": "ipython3",
   "version": "3.12.8"
  }
 },
 "nbformat": 4,
 "nbformat_minor": 2
}
