{
  "cells": [
    {
      "cell_type": "markdown",
      "metadata": {
        "id": "FWbf7qb2IYaA"
      },
      "source": [
        "## PyTorch Quiz 1 : Tensor 초기화"
      ]
    },
    {
      "cell_type": "code",
      "execution_count": 2,
      "metadata": {
        "colab": {
          "base_uri": "https://localhost:8080/",
          "height": 35
        },
        "id": "VuvJoACpIbiu",
        "outputId": "38ae583a-8eea-412f-986c-7f428d81bbd6"
      },
      "outputs": [
        {
          "data": {
            "text/plain": [
              "'2.5.1'"
            ]
          },
          "execution_count": 2,
          "metadata": {},
          "output_type": "execute_result"
        }
      ],
      "source": [
        "import torch\n",
        "import numpy as np\n",
        "\n",
        "torch.__version__"
      ]
    },
    {
      "cell_type": "markdown",
      "metadata": {
        "id": "RhPqBVZ6IYaD"
      },
      "source": [
        "### 1. 빈 Tensor 생성하기\n",
        "다음 조건에 맞는 Tensor를 생성하세요.\n",
        "- 3x4 크기의 Tensor\n",
        "- 값이 초기화되지 않은 상태"
      ]
    },
    {
      "cell_type": "code",
      "execution_count": 2,
      "metadata": {
        "colab": {
          "base_uri": "https://localhost:8080/"
        },
        "id": "-8fNNGmLIYaF",
        "outputId": "cb531def-8fc6-4252-ed1a-993b1fc56866"
      },
      "outputs": [
        {
          "name": "stdout",
          "output_type": "stream",
          "text": [
            "tensor([[ 2.8026e-45,  0.0000e+00, -1.8460e-09,  3.2953e-41],\n",
            "        [-1.8460e-09,  3.2953e-41, -1.8460e-09,  3.2953e-41],\n",
            "        [ 2.8026e-44,  4.4480e-41, -4.4673e+04,  4.4480e-41]])\n"
          ]
        }
      ],
      "source": [
        "tensor = torch.empty(3,4)\n",
        "print(tensor)"
      ]
    },
    {
      "cell_type": "markdown",
      "metadata": {
        "id": "PvDzvrtCIYaH"
      },
      "source": [
        "### 2. 0으로 채워진 Tensor 생성하기\n",
        "다음과 같은 Tensor를 생성하세요.\n",
        "- 2x5x3 크기의 Tensor\n",
        "- 데이터 타입은 float64"
      ]
    },
    {
      "cell_type": "code",
      "execution_count": 3,
      "metadata": {
        "colab": {
          "base_uri": "https://localhost:8080/"
        },
        "id": "p80KqQ9nIYaI",
        "outputId": "409446eb-3aa4-488a-8b4b-5657d3769d17"
      },
      "outputs": [
        {
          "name": "stdout",
          "output_type": "stream",
          "text": [
            "tensor([[[0., 0., 0.],\n",
            "         [0., 0., 0.],\n",
            "         [0., 0., 0.],\n",
            "         [0., 0., 0.],\n",
            "         [0., 0., 0.]],\n",
            "\n",
            "        [[0., 0., 0.],\n",
            "         [0., 0., 0.],\n",
            "         [0., 0., 0.],\n",
            "         [0., 0., 0.],\n",
            "         [0., 0., 0.]]], dtype=torch.float64)\n"
          ]
        }
      ],
      "source": [
        "tensor = torch.zeros(2,5,3, dtype=torch.float64)\n",
        "print(tensor)"
      ]
    },
    {
      "cell_type": "markdown",
      "metadata": {
        "id": "GKT19U_0IYaJ"
      },
      "source": [
        "### 3. 1로 채워진 Tensor 생성하기\n",
        "다음 조건에 맞는 Tensor를 생성하세요.\n",
        "- 4x4 크기의 Tensor\n",
        "- 데이터 타입은 int"
      ]
    },
    {
      "cell_type": "code",
      "execution_count": 4,
      "metadata": {
        "colab": {
          "base_uri": "https://localhost:8080/"
        },
        "id": "DzhGHow3IYaJ",
        "outputId": "0082f8fa-bf47-45a9-c668-a69112526338"
      },
      "outputs": [
        {
          "name": "stdout",
          "output_type": "stream",
          "text": [
            "tensor([[1, 1, 1, 1],\n",
            "        [1, 1, 1, 1],\n",
            "        [1, 1, 1, 1],\n",
            "        [1, 1, 1, 1]], dtype=torch.int32)\n"
          ]
        }
      ],
      "source": [
        "tensor = torch.ones(4,4, dtype=torch.int)\n",
        "print(tensor)"
      ]
    },
    {
      "cell_type": "markdown",
      "metadata": {
        "id": "ejJ9F1_4IYaL"
      },
      "source": [
        "### 4. 랜덤 값으로 채워진 Tensor 생성하기\n",
        "다음 조건에 맞는 Tensor를 생성하세요.\n",
        "- 3x3 크기의 Tensor\n",
        "- 모든 값이 0과 1 사이의 랜덤 값"
      ]
    },
    {
      "cell_type": "code",
      "execution_count": 5,
      "metadata": {
        "colab": {
          "base_uri": "https://localhost:8080/"
        },
        "id": "hnUKOzwHIYaM",
        "outputId": "12be0a2d-710d-43b6-f110-73c04bc531b0"
      },
      "outputs": [
        {
          "name": "stdout",
          "output_type": "stream",
          "text": [
            "tensor([[0.8427, 0.0808, 0.3842],\n",
            "        [0.6249, 0.7828, 0.4491],\n",
            "        [0.0592, 0.8254, 0.7511]])\n"
          ]
        }
      ],
      "source": [
        "tensor = torch.rand(3,3)\n",
        "print(tensor)"
      ]
    },
    {
      "cell_type": "markdown",
      "metadata": {
        "id": "5ub0A9AHIYaN"
      },
      "source": [
        "### 5. 다차원 Tensor 생성하기\n",
        "다음과 같은 다차원 Tensor를 생성하세요.\n",
        "- 값이 다음과 같은 2x3의 2D 배열\n",
        "    ```\n",
        "    [[1, 2, 3],\n",
        "     [4, 5, 6]]\n",
        "    ```"
      ]
    },
    {
      "cell_type": "code",
      "execution_count": 8,
      "metadata": {
        "colab": {
          "base_uri": "https://localhost:8080/"
        },
        "id": "_nOhKJQTIYaO",
        "outputId": "a5301a6d-af9a-49f1-e4ba-021f99e1a1a3"
      },
      "outputs": [
        {
          "name": "stdout",
          "output_type": "stream",
          "text": [
            "tensor([[1, 2, 3],\n",
            "        [4, 5, 6]])\n"
          ]
        }
      ],
      "source": [
        "tensor = torch.tensor([[1,2,3],[4,5,6]])\n",
        "print(tensor)"
      ]
    },
    {
      "cell_type": "markdown",
      "metadata": {
        "id": "M3d8F5mBIYaO"
      },
      "source": [
        "### 6. Tensor의 값을 변경하기\n",
        "1. 표준정규분포의 값을 랜덤으로 갖는 2x2 Tensor를 생성하세요.\n",
        "2. 생성된 Tensor의 값을 모두 0으로 바꿔보세요."
      ]
    },
    {
      "cell_type": "code",
      "execution_count": 8,
      "metadata": {
        "colab": {
          "base_uri": "https://localhost:8080/"
        },
        "id": "iou8QOsIIYaP",
        "outputId": "6e4d2b03-194c-441b-e661-e20527ce0f2e"
      },
      "outputs": [
        {
          "name": "stdout",
          "output_type": "stream",
          "text": [
            "tensor([[-0.0276,  0.9387],\n",
            "        [-1.2765,  0.4373]])\n",
            "tensor([[0., 0.],\n",
            "        [0., 0.]])\n"
          ]
        }
      ],
      "source": [
        "tensor = torch.randn(2,2)\n",
        "print(tensor)\n",
        "new_tensor = torch.zeros_like(tensor)\n",
        "print(new_tensor)"
      ]
    }
  ],
  "metadata": {
    "accelerator": "GPU",
    "colab": {
      "gpuType": "T4",
      "provenance": []
    },
    "kernelspec": {
      "display_name": "pytorch_env",
      "language": "python",
      "name": "python3"
    },
    "language_info": {
      "codemirror_mode": {
        "name": "ipython",
        "version": 3
      },
      "file_extension": ".py",
      "mimetype": "text/x-python",
      "name": "python",
      "nbconvert_exporter": "python",
      "pygments_lexer": "ipython3",
      "version": "3.12.8"
    }
  },
  "nbformat": 4,
  "nbformat_minor": 0
}
