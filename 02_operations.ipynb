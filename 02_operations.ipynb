{
 "cells": [
  {
   "cell_type": "markdown",
   "metadata": {},
   "source": [
    "## 02. 텐서의 연산"
   ]
  },
  {
   "cell_type": "code",
   "execution_count": 1,
   "metadata": {},
   "outputs": [],
   "source": [
    "import torch"
   ]
  },
  {
   "cell_type": "markdown",
   "metadata": {},
   "source": [
    "### 2-1. 산술 연산"
   ]
  },
  {
   "cell_type": "code",
   "execution_count": 18,
   "metadata": {},
   "outputs": [
    {
     "name": "stdout",
     "output_type": "stream",
     "text": [
      "tensor([[0.4845, 0.1688],\n",
      "        [0.0951, 0.0998]])\n",
      "tensor([[0.9690, 0.3376],\n",
      "        [0.1902, 0.1995]])\n",
      "tensor([[1.9690, 1.3376],\n",
      "        [1.1902, 1.1995]])\n"
     ]
    }
   ],
   "source": [
    "tensor = torch.rand(2,2)\n",
    "print(tensor)\n",
    "\n",
    "tensor = tensor * 2\n",
    "print(tensor)\n",
    "\n",
    "tensor = tensor + 1\n",
    "print(tensor)\n",
    "\n"
   ]
  },
  {
   "cell_type": "code",
   "execution_count": 27,
   "metadata": {},
   "outputs": [
    {
     "name": "stdout",
     "output_type": "stream",
     "text": [
      "tensor([[0.2336, 0.0515],\n",
      "        [0.2707, 0.3133]]) tensor([[0.8622, 0.3658],\n",
      "        [0.8913, 0.0134]])\n",
      "tensor([[1.0958, 0.4172],\n",
      "        [1.1621, 0.3268]])\n",
      "tensor([[1.0958, 0.4172],\n",
      "        [1.1621, 0.3268]])\n"
     ]
    }
   ],
   "source": [
    "# 여러개의 텐서를 연산\n",
    "x = torch.rand(2,2)\n",
    "y = torch.rand(2,2)\n",
    "add = torch.add(x,y) \n",
    "\n",
    "# print(x)\n",
    "# print(y)\n",
    "# print(x+y)\n",
    "# print(add)\n",
    "print(x,y)\n",
    "\n",
    "# in-place 바꿔치기 연산\n",
    "add = torch.add(x,y)\n",
    "print(add)\n",
    "y.add_(x) #앞에있는 값에 덮어 씌움\n",
    "print(y)"
   ]
  },
  {
   "cell_type": "code",
   "execution_count": 33,
   "metadata": {},
   "outputs": [
    {
     "name": "stdout",
     "output_type": "stream",
     "text": [
      "tensor([[ 0.0059,  0.5050],\n",
      "        [ 0.6340, -0.2019]])\n",
      "tensor([[ 0.0059,  0.5050],\n",
      "        [ 0.6340, -0.2019]])\n"
     ]
    }
   ],
   "source": [
    "# 빼기\n",
    "x = torch.rand(2,2)\n",
    "y = torch.rand(2,2)\n",
    "sub = torch.sub(x,y)\n",
    "print(x-y)\n",
    "print(sub) "
   ]
  },
  {
   "cell_type": "code",
   "execution_count": 35,
   "metadata": {},
   "outputs": [
    {
     "name": "stdout",
     "output_type": "stream",
     "text": [
      "tensor([[0.0437, 0.1617],\n",
      "        [0.1624, 0.2783]])\n",
      "tensor([[0.0437, 0.1617],\n",
      "        [0.1624, 0.2783]])\n"
     ]
    }
   ],
   "source": [
    "# 곱하기\n",
    "x = torch.rand(2,2)\n",
    "y = torch.rand(2,2)\n",
    "mul = torch.mul(x,y)\n",
    "print(x*y)\n",
    "print(mul) "
   ]
  },
  {
   "cell_type": "code",
   "execution_count": 37,
   "metadata": {},
   "outputs": [
    {
     "name": "stdout",
     "output_type": "stream",
     "text": [
      "tensor([[1.0163, 1.2845],\n",
      "        [3.8754, 2.0435]])\n",
      "tensor([[1.0163, 1.2845],\n",
      "        [3.8754, 2.0435]])\n"
     ]
    }
   ],
   "source": [
    "# 나누기\n",
    "x = torch.rand(2,2)\n",
    "y = torch.rand(2,2)\n",
    "div = torch.div(x,y)\n",
    "print(x/y)\n",
    "print(div) "
   ]
  },
  {
   "cell_type": "markdown",
   "metadata": {},
   "source": [
    "### 2-2. 각종연산"
   ]
  },
  {
   "cell_type": "code",
   "execution_count": 19,
   "metadata": {},
   "outputs": [
    {
     "name": "stdout",
     "output_type": "stream",
     "text": [
      "절대값 : tensor(10)\n",
      "올림 : tensor(5.)\n",
      "반올림 : tensor(4.)\n",
      "내림 : tensor(4.)\n",
      "클램프 tensor([[ 0.5000,  0.3000],\n",
      "        [-0.5000,  0.4000]])\n"
     ]
    }
   ],
   "source": [
    "a = torch.tensor(-10)\n",
    "print(\"절대값 :\", torch.abs(a))\n",
    "\n",
    "b = torch.tensor(4.5)\n",
    "print(\"올림 :\", torch.ceil(b))\n",
    "print(\"반올림 :\", torch.round(b))\n",
    "print(\"내림 :\", torch.floor(b))\n",
    "\n",
    "c = torch.tensor([[0.8,0.3],[-0.9,0.4]])\n",
    "print(\"클램프\",torch.clamp(c, -0.5,0.5)) #최솟값,최댓값을 정하고 이 값을 초과또는 미만인것은 없애주는것\n"
   ]
  },
  {
   "cell_type": "code",
   "execution_count": 32,
   "metadata": {},
   "outputs": [
    {
     "name": "stdout",
     "output_type": "stream",
     "text": [
      "최소값 : tensor(0.4215)\n",
      "최대값 : tensor(1.1482)\n",
      "평균 : tensor(0.7436)\n",
      "표준편차 : tensor(0.3583)\n",
      "모든 원소의 합 : tensor(2.9742)\n",
      "모든 원소의 합 : tensor([4, 6])\n",
      "모든 원소의 곱 : tensor(24)\n",
      "중복된 값 제거 : tensor([1, 2, 3, 4])\n"
     ]
    }
   ],
   "source": [
    "x = torch.randn(2,2)\n",
    "y = torch.tensor([[1,2],\n",
    "                  [3,4]])\n",
    "print(\"최소값 :\", torch.min(x))\n",
    "print(\"최대값 :\", torch.max(x))\n",
    "print(\"평균 :\", torch.mean(x))\n",
    "print(\"표준편차 :\", torch.std(x))\n",
    "print(\"모든 원소의 합 :\", torch.sum(x))\n",
    "print(\"모든 원소의 합 :\", torch.sum(y,dim=0))#dim=0:같은열더함 dim=1:같은 행 더함\n",
    "print(\"모든 원소의 곱 :\", torch.prod(y))\n",
    "print(\"중복된 값 제거 :\", torch.unique(torch.tensor([1,1,2,2,2,3,3,3,4,4,4])))"
   ]
  },
  {
   "cell_type": "markdown",
   "metadata": {},
   "source": [
    "### 2-3. 내적(dot product)"
   ]
  },
  {
   "cell_type": "code",
   "execution_count": 36,
   "metadata": {},
   "outputs": [
    {
     "name": "stdout",
     "output_type": "stream",
     "text": [
      "tensor([[19, 22],\n",
      "        [43, 50]])\n"
     ]
    }
   ],
   "source": [
    "x = torch.tensor([[1,2],\n",
    "                  [3,4]])\n",
    "y = torch.tensor([[5,6],\n",
    "                  [7,8]])\n",
    "\n",
    "result = torch.matmul(x,y)\n",
    "print(result)"
   ]
  }
 ],
 "metadata": {
  "kernelspec": {
   "display_name": "pytorch_env",
   "language": "python",
   "name": "python3"
  },
  "language_info": {
   "codemirror_mode": {
    "name": "ipython",
    "version": 3
   },
   "file_extension": ".py",
   "mimetype": "text/x-python",
   "name": "python",
   "nbconvert_exporter": "python",
   "pygments_lexer": "ipython3",
   "version": "3.12.8"
  }
 },
 "nbformat": 4,
 "nbformat_minor": 2
}
