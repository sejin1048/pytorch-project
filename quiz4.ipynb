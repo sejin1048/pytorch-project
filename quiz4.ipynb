{
 "cells": [
  {
   "cell_type": "code",
   "execution_count": 1,
   "metadata": {},
   "outputs": [
    {
     "name": "stdout",
     "output_type": "stream",
     "text": [
      "setting complete.\n"
     ]
    }
   ],
   "source": [
    "import torch\n",
    "print(\"setting complete.\")"
   ]
  },
  {
   "cell_type": "markdown",
   "metadata": {},
   "source": [
    "### 문제1\n",
    "- 2차원 텐서 [[1, 2, 3], [4, 5, 6]]를 3x2 텐서로 변환해서 출력하세요."
   ]
  },
  {
   "cell_type": "code",
   "execution_count": 4,
   "metadata": {},
   "outputs": [
    {
     "name": "stdout",
     "output_type": "stream",
     "text": [
      "tensor([[1, 2],\n",
      "        [3, 4],\n",
      "        [5, 6]])\n"
     ]
    }
   ],
   "source": [
    "# 여기에 코드를 작성합니다\n",
    "t = torch.tensor([[1,2,3],[4,5,6]])\n",
    "ans = t.view(3,2)\n",
    "print(ans)"
   ]
  },
  {
   "cell_type": "markdown",
   "metadata": {},
   "source": [
    "### 문제2\n",
    "- 단일 값 텐서 tensor(42)에서 값을 추출하고 데이터 타입을 확인해서 출력하세요."
   ]
  },
  {
   "cell_type": "code",
   "execution_count": 34,
   "metadata": {},
   "outputs": [
    {
     "name": "stdout",
     "output_type": "stream",
     "text": [
      "42\n",
      "torch.int64\n"
     ]
    }
   ],
   "source": [
    "# 여기에 코드를 작성합니다\n",
    "# (1) 값을 추출하고\n",
    "t = torch.tensor(42)\n",
    "ans_1 = t.item()\n",
    "print(ans_1)\n",
    "# (2) 데이터 타입을 확인하세요.\n",
    "print(t.dtype)"
   ]
  },
  {
   "cell_type": "markdown",
   "metadata": {},
   "source": [
    "### 문제 3\n",
    "- 3차원 텐서 [[[1, 2, 3]]]에서 크기가 1인 차원을 제거해서 출력하세요."
   ]
  },
  {
   "cell_type": "code",
   "execution_count": 85,
   "metadata": {},
   "outputs": [
    {
     "name": "stdout",
     "output_type": "stream",
     "text": [
      "torch.Size([1, 1, 3])\n",
      "tensor([1, 2, 3])\n",
      "torch.Size([3])\n"
     ]
    }
   ],
   "source": [
    "# 여기에 코드를 작성합니다\n",
    "t = torch.tensor([[[1, 2, 3]]])\n",
    "# print(t.shape)\n",
    "ans = torch.squeeze(t)\n",
    "\n",
    "print(t.shape)\n",
    "print(ans)\n",
    "print(ans.shape)"
   ]
  },
  {
   "cell_type": "markdown",
   "metadata": {},
   "source": [
    "### 문제 4\n",
    "- 1차원 텐서 [1, 2, 3]에 새로운 차원을 추가하여 2차원 텐서로 만들어 출력하세요."
   ]
  },
  {
   "cell_type": "code",
   "execution_count": 88,
   "metadata": {},
   "outputs": [
    {
     "name": "stdout",
     "output_type": "stream",
     "text": [
      "torch.Size([3])\n",
      "tensor([[1, 2, 3]])\n"
     ]
    }
   ],
   "source": [
    "# 여기에 코드를 작성합니다\n",
    "t = torch.tensor([1,2,3])\n",
    "ans = torch.unsqueeze(t,dim = 0)\n",
    "\n",
    "print(t.shape)\n",
    "print(ans)"
   ]
  },
  {
   "cell_type": "markdown",
   "metadata": {},
   "source": [
    "### 문제 5\n",
    "- 두 텐서 a = [1, 2]와 b = [3, 4]를 쌓아 2x2 텐서를 생성해서 출력하세요.\n"
   ]
  },
  {
   "cell_type": "code",
   "execution_count": 45,
   "metadata": {},
   "outputs": [
    {
     "name": "stdout",
     "output_type": "stream",
     "text": [
      "tensor([[1, 2],\n",
      "        [3, 4]])\n"
     ]
    }
   ],
   "source": [
    "# 여기에 코드를 작성합니다\n",
    "a = torch.tensor([1,2])\n",
    "b = torch.tensor([3,4])\n",
    "ans = torch.stack([a,b])\n",
    "print(ans)"
   ]
  },
  {
   "cell_type": "markdown",
   "metadata": {},
   "source": [
    "### 문제 6\n",
    "- 두 텐서 a = [[1, 2], [3, 4]]와 b = [[5, 6], [7, 8]]를 열 방향으로 연결해서 출력하세요."
   ]
  },
  {
   "cell_type": "code",
   "execution_count": 93,
   "metadata": {},
   "outputs": [
    {
     "name": "stdout",
     "output_type": "stream",
     "text": [
      "tensor([[1, 2, 5, 6],\n",
      "        [3, 4, 7, 8]])\n"
     ]
    }
   ],
   "source": [
    "# 여기에 코드를 작성합니다 #열방향 : dim=1\n",
    "a = torch.tensor([[1,2],[3,4]])\n",
    "b = torch.tensor([[5,6],[7,8]])\n",
    "ans = torch.cat((a,b),dim=1)\n",
    "print(ans)"
   ]
  },
  {
   "cell_type": "markdown",
   "metadata": {},
   "source": [
    "### 문제 7\n",
    "- 텐서 [[1, 2, 3], [4, 5, 6]]를 2개의 조각으로 나눠서 출력해보세요. (행 기준)."
   ]
  },
  {
   "cell_type": "code",
   "execution_count": 95,
   "metadata": {},
   "outputs": [
    {
     "name": "stdout",
     "output_type": "stream",
     "text": [
      "tensor([[1, 2, 3]])\n",
      "tensor([[4, 5, 6]])\n"
     ]
    }
   ],
   "source": [
    "# 여기에 코드를 작성합니다 #2개 이므로 chunck\n",
    "t = torch.tensor([[1, 2, 3], [4, 5, 6]])\n",
    "a,b = torch.chunk(t,2, dim = 0) #튜플형태로 받아옴\n",
    "print(a)\n",
    "print(b)"
   ]
  },
  {
   "cell_type": "markdown",
   "metadata": {},
   "source": [
    "### 문제8\n",
    "- 텐서 [1, 2, 3, 4, 5]를 각각 2, 2, 1의 크기로 나눠서 출력해보세요."
   ]
  },
  {
   "cell_type": "code",
   "execution_count": 96,
   "metadata": {},
   "outputs": [
    {
     "name": "stdout",
     "output_type": "stream",
     "text": [
      "tensor([1, 2])\n",
      "tensor([3, 4])\n",
      "tensor([5])\n"
     ]
    }
   ],
   "source": [
    "# 여기에 코드를 작성합니다 #크기로 나누므로 split\n",
    "t = torch.tensor([1,2,3,4,5])\n",
    "x , y , z= torch.split(t,[2,2,1],dim = 0)\n",
    "print(x)\n",
    "print(y)\n",
    "print(z)"
   ]
  },
  {
   "cell_type": "markdown",
   "metadata": {},
   "source": [
    "### 문제9\n",
    "- 텐서 [[1, 2], [3, 4], [5, 6]]에서:\n",
    "- dim=1 기준으로 크기 1씩 나누세요.\n",
    "- 각각의 조각을 새로운 축에 쌓은 후 출력해보세요."
   ]
  },
  {
   "cell_type": "code",
   "execution_count": 97,
   "metadata": {},
   "outputs": [
    {
     "name": "stdout",
     "output_type": "stream",
     "text": [
      "tensor([[1],\n",
      "        [3],\n",
      "        [5]]) tensor([[2],\n",
      "        [4],\n",
      "        [6]])\n",
      "tensor([[[1],\n",
      "         [3],\n",
      "         [5]],\n",
      "\n",
      "        [[2],\n",
      "         [4],\n",
      "         [6]]])\n"
     ]
    }
   ],
   "source": [
    "# 여기에 코드를 작성합니다\n",
    "# 1. 열 기준으로 크기 1씩 나누기\n",
    "t = torch.tensor([[1, 2], [3, 4], [5, 6]])\n",
    "# print(t)\n",
    "x,y= torch.split(t,1,dim = 1)\n",
    "ans_1 = print(x,y)\n",
    "\n",
    "# 2. 새로운 축에 쌓기\n",
    "ans_2 = torch.stack([x,y])\n",
    "print(ans_2)\n",
    "\n"
   ]
  },
  {
   "cell_type": "markdown",
   "metadata": {},
   "source": [
    "### 문제10\n",
    "- 다음 텐서를 활용해서 아래 문제를 해결해보세요\n",
    "  ```\n",
    "  a = torch.tensor([[1, 2], [3, 4]])\n",
    "  b = torch.tensor([[5, 6], [7, 8]])\n",
    "  ```\n",
    "\n",
    "1. 두 텐서를 열 기준으로 연결하고 결과를 출력하세요.\n",
    "2. 연결된 텐서를 크기 `(4, 2)`로 변환하세요.\n",
    "3. 변환된 텐서를 2개의 조각으로 나누고, 각 조각을 0번 축으로 스택하여 출력하세요.\n"
   ]
  },
  {
   "cell_type": "code",
   "execution_count": 100,
   "metadata": {},
   "outputs": [
    {
     "name": "stdout",
     "output_type": "stream",
     "text": [
      "tensor([[1, 2, 5, 6],\n",
      "        [3, 4, 7, 8]])\n",
      "tensor([[1, 2],\n",
      "        [5, 6],\n",
      "        [3, 4],\n",
      "        [7, 8]])\n",
      "tensor([[1, 2],\n",
      "        [5, 6]])\n",
      "tensor([[3, 4],\n",
      "        [7, 8]])\n",
      "tensor([[[1, 2],\n",
      "         [5, 6]],\n",
      "\n",
      "        [[3, 4],\n",
      "         [7, 8]]])\n"
     ]
    }
   ],
   "source": [
    "# 여기에 코드를 작성합니다\n",
    "# 1. 열 기준으로 병합  # dim = 1\n",
    "a = torch.tensor([[1, 2], \n",
    "                  [3, 4]])\n",
    "b = torch.tensor([[5, 6], \n",
    "                  [7, 8]])\n",
    "ans_1 = torch.cat((a,b), dim = 1)\n",
    "print(ans_1)\n",
    "\n",
    "# 2. 크기 (4, 2)로 변환\n",
    "ans_2 = ans_1.view(4,2)\n",
    "print(ans_2)\n",
    "# 3. 2개의 조각으로 나누고\n",
    "c,d = torch.chunk(ans_2,2)\n",
    "# chunk = torch.chunk(ans_2,2)\n",
    "# print(chunk)\n",
    "print(c)\n",
    "print(d)\n",
    "# 4. 0번 축으로 스택\n",
    "ans_4 = torch.stack([c,d], dim = 0)\n",
    "# ans_4 = torch.stack(chunk, dim = 0) #dim = 0 이 default\n",
    "print(ans_4)"
   ]
  }
 ],
 "metadata": {
  "kernelspec": {
   "display_name": "pytorch_env",
   "language": "python",
   "name": "python3"
  },
  "language_info": {
   "codemirror_mode": {
    "name": "ipython",
    "version": 3
   },
   "file_extension": ".py",
   "mimetype": "text/x-python",
   "name": "python",
   "nbconvert_exporter": "python",
   "pygments_lexer": "ipython3",
   "version": "3.12.8"
  }
 },
 "nbformat": 4,
 "nbformat_minor": 2
}
