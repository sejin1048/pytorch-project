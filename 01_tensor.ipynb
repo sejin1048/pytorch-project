{
  "cells": [
    {
      "cell_type": "code",
      "execution_count": 2,
      "metadata": {
        "id": "MkoIDbSw8Eew"
      },
      "outputs": [],
      "source": [
        "# prompt: !pip3 install torch\n",
        "#!pip3 install torch"
      ]
    },
    {
      "cell_type": "code",
      "execution_count": 20,
      "metadata": {
        "colab": {
          "base_uri": "https://localhost:8080/",
          "height": 35
        },
        "id": "JrrVfE0o8pqT",
        "outputId": "78591c9e-af2f-4539-bb87-5cfaa1384e14"
      },
      "outputs": [
        {
          "data": {
            "text/plain": [
              "'2.5.1'"
            ]
          },
          "execution_count": 20,
          "metadata": {},
          "output_type": "execute_result"
        }
      ],
      "source": [
        "import torch\n",
        "torch.__version__"
      ]
    },
    {
      "cell_type": "markdown",
      "metadata": {
        "id": "TwFw8bgOC_lO"
      },
      "source": [
        "## 01. 텐서 초기화\n",
        "- 초기화 : 텐서에 특정 값을 채워서 생성하는 것"
      ]
    },
    {
      "cell_type": "code",
      "execution_count": 4,
      "metadata": {
        "colab": {
          "base_uri": "https://localhost:8080/",
          "height": 35
        },
        "id": "LtdAMWWcDOfP",
        "outputId": "6b820510-8571-4c8b-fd0e-34acca06c902"
      },
      "outputs": [
        {
          "data": {
            "text/plain": [
              "'2.5.1'"
            ]
          },
          "execution_count": 4,
          "metadata": {},
          "output_type": "execute_result"
        }
      ],
      "source": [
        "import torch\n",
        "import numpy as np\n",
        "\n",
        "# pytorch version확인\n",
        "torch.__version__"
      ]
    },
    {
      "cell_type": "markdown",
      "metadata": {
        "id": "fGXWz-8_DcbE"
      },
      "source": [
        "### 1-1. 초기화 되지 않은 Tensor\n",
        "- 특정한 값이 채워지지 않은 상태로 생성하는 것"
      ]
    },
    {
      "cell_type": "code",
      "execution_count": 5,
      "metadata": {
        "colab": {
          "base_uri": "https://localhost:8080/"
        },
        "id": "A-U3ZUrUDsgJ",
        "outputId": "f0df2066-20d3-4ff8-c950-d43131bc2057"
      },
      "outputs": [
        {
          "name": "stdout",
          "output_type": "stream",
          "text": [
            "tensor([[-1.9542e-03,  9.2486e-43],\n",
            "        [ 0.0000e+00,  0.0000e+00],\n",
            "        [ 0.0000e+00,  0.0000e+00],\n",
            "        [ 0.0000e+00,  0.0000e+00]])\n"
          ]
        }
      ],
      "source": [
        "tensor = torch.empty(4,2)\n",
        "print(tensor)"
      ]
    },
    {
      "cell_type": "markdown",
      "metadata": {
        "id": "5MZjH7Y1D8MX"
      },
      "source": [
        "### 1-2. 상수로 초기화된 Tensor\n",
        "- 'torch.zeros()'\n",
        "- 'torch.ones()'"
      ]
    },
    {
      "cell_type": "code",
      "execution_count": 6,
      "metadata": {
        "colab": {
          "base_uri": "https://localhost:8080/"
        },
        "id": "BC8Uyw4eEK2y",
        "outputId": "896b224e-d564-459d-fb27-7c3768b94730"
      },
      "outputs": [
        {
          "name": "stdout",
          "output_type": "stream",
          "text": [
            "tensor([[1, 1, 1, 1],\n",
            "        [1, 1, 1, 1],\n",
            "        [1, 1, 1, 1]])\n",
            "tensor([[0., 0.],\n",
            "        [0., 0.]])\n"
          ]
        }
      ],
      "source": [
        "a = torch.ones(3,4, dtype = torch.long) # dtype = 데이터타입 지정\n",
        "b = torch.zeros(2,2)\n",
        "\n",
        "print(a)\n",
        "print(b)"
      ]
    },
    {
      "cell_type": "markdown",
      "metadata": {
        "id": "ryJ45fOaEliQ"
      },
      "source": [
        "### 1-3. 무작위하게 초기화된 Tensor\n",
        "- 'torch.rand' = 0~1사이의 값으로 무작위로 초기화\n",
        "- 'torch.randn' = 표준정규분포에서 무작위로 초기화"
      ]
    },
    {
      "cell_type": "code",
      "execution_count": 22,
      "metadata": {
        "colab": {
          "base_uri": "https://localhost:8080/"
        },
        "id": "1bBvAl7gEvMh",
        "outputId": "50ff8b3f-dddb-4c17-9aa6-6fff46cd1175"
      },
      "outputs": [
        {
          "name": "stdout",
          "output_type": "stream",
          "text": [
            "tensor([[0.5602, 0.6685, 0.9309],\n",
            "        [0.7266, 0.6961, 0.6167],\n",
            "        [0.6905, 0.9305, 0.2317]])\n",
            "tensor([[ 0.3060,  0.0562,  0.3205],\n",
            "        [-0.7044,  0.6527, -0.1166],\n",
            "        [ 0.2270,  0.0436,  1.8925]])\n"
          ]
        }
      ],
      "source": [
        "a = torch.rand(3,3)\n",
        "b = torch.randn(3,3)\n",
        "print(a)\n",
        "print(b)"
      ]
    },
    {
      "cell_type": "markdown",
      "metadata": {
        "id": "TKACpN8VFSlf"
      },
      "source": [
        "### 1-4. 직접 입력한 값으로 초기화"
      ]
    },
    {
      "cell_type": "code",
      "execution_count": 8,
      "metadata": {
        "colab": {
          "base_uri": "https://localhost:8080/"
        },
        "id": "DlevhZwAFXAQ",
        "outputId": "9aa3c9b7-bacb-43a3-9cab-8469c64cc72f"
      },
      "outputs": [
        {
          "name": "stdout",
          "output_type": "stream",
          "text": [
            "tensor([1.0000, 2.3000])\n"
          ]
        }
      ],
      "source": [
        "a = torch.tensor([1,2.3])\n",
        "print(a)"
      ]
    },
    {
      "cell_type": "markdown",
      "metadata": {
        "id": "wHPIcLJRFhpA"
      },
      "source": [
        "### 1-5. NumPy 배열로부터 초기화"
      ]
    },
    {
      "cell_type": "code",
      "execution_count": 9,
      "metadata": {
        "colab": {
          "base_uri": "https://localhost:8080/"
        },
        "id": "SGsgc6gpFmGW",
        "outputId": "5aa60de5-9452-44dc-dcf8-4fd711fd721a"
      },
      "outputs": [
        {
          "name": "stdout",
          "output_type": "stream",
          "text": [
            "[  1.    2.3 100.    5. ]\n",
            "tensor([  1.0000,   2.3000, 100.0000,   5.0000])\n"
          ]
        }
      ],
      "source": [
        "#넘파이를 텐서로\n",
        "nd_arr = np.array([1,2,3])\n",
        "a = torch.from_numpy(nd_arr)\n",
        "\n",
        "#텐서를 넘파이로\n",
        "b = torch.tensor([1,2.3,4,5])\n",
        "new_nd = b.numpy()\n",
        "new_nd[2] = 100 #얕은 복사임\n",
        "\n",
        "print(new_nd)\n",
        "print(b)"
      ]
    },
    {
      "cell_type": "markdown",
      "metadata": {
        "id": "vpa94N4zGh1D"
      },
      "source": [
        "### 1-6. 특정 텐서와 같은 사이즈, 무작위로 값을 채움"
      ]
    },
    {
      "cell_type": "code",
      "execution_count": 10,
      "metadata": {
        "colab": {
          "base_uri": "https://localhost:8080/"
        },
        "id": "tyvLOv-NGniT",
        "outputId": "37820619-0a90-42cb-9bdb-c0c48d38cf56"
      },
      "outputs": [
        {
          "data": {
            "text/plain": [
              "tensor([[0., 0., 0., 0.],\n",
              "        [0., 0., 0., 0.],\n",
              "        [0., 0., 0., 0.]])"
            ]
          },
          "execution_count": 10,
          "metadata": {},
          "output_type": "execute_result"
        }
      ],
      "source": [
        "a = torch.ones(3,4, dtype = torch.long) # dtype = 데이터타입 지정\n",
        "b = torch.zeros_like(a,dtype = torch.float) # a에 가져온 크기에 맞춰 아무숫자나 넣어줌\n",
        "b"
      ]
    },
    {
      "cell_type": "markdown",
      "metadata": {
        "id": "wmR4Z86tQ0ma"
      },
      "source": [
        "### 1-7. 텐서의 속성"
      ]
    },
    {
      "cell_type": "code",
      "execution_count": 11,
      "metadata": {
        "colab": {
          "base_uri": "https://localhost:8080/"
        },
        "id": "fjUtCaI2Q8UE",
        "outputId": "87eab16a-8fcd-4a17-9c98-6cd292316cbb"
      },
      "outputs": [
        {
          "name": "stdout",
          "output_type": "stream",
          "text": [
            "torch.Size([3, 4])\n",
            "torch.Size([3, 4])\n",
            "torch.float64\n",
            "cpu\n"
          ]
        }
      ],
      "source": [
        "# device = torch.device('cuda' if torch.cuda.is_available() else 'cpu')\n",
        "tensor = torch.rand(3,4,dtype = torch.float64)\n",
        "# tensor = tensor.to(device) # gpu로 옮기기\n",
        "\n",
        "print(tensor.size()) # 사이즈(함수를 이용한것)\n",
        "print(tensor.shape) # 사이즈\n",
        "print(tensor.dtype) # 데이터타입\n",
        "print(tensor.device) # 디바이스\n"
      ]
    },
    {
      "cell_type": "markdown",
      "metadata": {
        "id": "ELAB-ffsR5cY"
      },
      "source": [
        "### 1-8. 특정 타입의 텐서 생성"
      ]
    },
    {
      "cell_type": "code",
      "execution_count": 12,
      "metadata": {
        "colab": {
          "base_uri": "https://localhost:8080/"
        },
        "id": "bJgurt70R8dZ",
        "outputId": "338d31d4-351b-4fc6-f7bf-196b79d7f56b"
      },
      "outputs": [
        {
          "name": "stdout",
          "output_type": "stream",
          "text": [
            "torch.float32\n",
            "tensor([1, 2, 3], dtype=torch.int32)\n",
            "torch.int32\n"
          ]
        }
      ],
      "source": [
        "tensor = torch.rand(3,4,dtype = torch.float64)\n",
        "float_tensor = torch.FloatTensor([1,2,3])\n",
        "print(float_tensor.dtype)\n",
        "\n",
        "int_tensor = torch.IntTensor([1.1,2.2,3.8])\n",
        "print(int_tensor)\n",
        "print(int_tensor.dtype)"
      ]
    },
    {
      "cell_type": "markdown",
      "metadata": {
        "id": "nRu94K6vSq35"
      },
      "source": [
        "### 1-9. 데이터 타입 캐스팅 (데이터 타입을 변환하는것을 말함)\n"
      ]
    },
    {
      "cell_type": "code",
      "execution_count": 13,
      "metadata": {
        "colab": {
          "base_uri": "https://localhost:8080/"
        },
        "id": "lInhQvwLSw_D",
        "outputId": "3ac16623-c05d-4500-ae2c-922fc5006f6b"
      },
      "outputs": [
        {
          "name": "stdout",
          "output_type": "stream",
          "text": [
            "tensor([1, 2, 3], dtype=torch.int32)\n",
            "tensor([1., 2., 3.])\n"
          ]
        }
      ],
      "source": [
        "float_tensor = torch.FloatTensor([1,2,3])\n",
        "print(float_tensor.int())\n",
        "\n",
        "int_tensor = torch.IntTensor([1.1,2.2,3.8])\n",
        "print(int_tensor.float())"
      ]
    },
    {
      "cell_type": "markdown",
      "metadata": {
        "id": "Ritr2Ix1TfNG"
      },
      "source": [
        "### 1-10. CUDA Tensor"
      ]
    },
    {
      "cell_type": "code",
      "execution_count": 14,
      "metadata": {
        "colab": {
          "base_uri": "https://localhost:8080/"
        },
        "id": "zBu6qHd1TiM5",
        "outputId": "a6ab47b7-b572-4ddb-f300-095767226d37"
      },
      "outputs": [
        {
          "data": {
            "text/plain": [
              "device(type='cuda', index=0)"
            ]
          },
          "execution_count": 14,
          "metadata": {},
          "output_type": "execute_result"
        }
      ],
      "source": [
        "tensor = torch.rand(3,4,dtype = torch.float64)\n",
        "device = torch.device(\"cuda\" if torch.cuda.is_available() else \"cpu\") #가능하면 쿠다 쓰고 아니면 cpu씀\n",
        "tensor = tensor.to(device)\n",
        "tensor.device"
      ]
    },
    {
      "cell_type": "markdown",
      "metadata": {
        "id": "w35FZGLVU9vk"
      },
      "source": [
        "### 1-11. 다차원 텐서 표현"
      ]
    },
    {
      "cell_type": "markdown",
      "metadata": {
        "id": "dL2H1issVKev"
      },
      "source": [
        "#### 1-11-1. 0D Tensor(Scalr)\n",
        "- 하나의 값을 담고 있는 텐서"
      ]
    },
    {
      "cell_type": "code",
      "execution_count": 15,
      "metadata": {
        "colab": {
          "base_uri": "https://localhost:8080/"
        },
        "id": "fbfoF2lFVVLo",
        "outputId": "f14fd5ad-f789-4a9c-cbb9-fcc49d35603a"
      },
      "outputs": [
        {
          "name": "stdout",
          "output_type": "stream",
          "text": [
            "0\n",
            "torch.Size([])\n",
            "tensor(100)\n"
          ]
        }
      ],
      "source": [
        "t0 = torch.tensor(100)\n",
        "print(t0.ndim)\n",
        "print(t0.shape)\n",
        "print(t0)"
      ]
    },
    {
      "cell_type": "markdown",
      "metadata": {
        "id": "oYNJv_QaVmrT"
      },
      "source": [
        "### 1-11-2. 1D Tensor(Vector)\n",
        "- 값들을 저장하고 있는 리스트와 유사한 텐서(배열형태)"
      ]
    },
    {
      "cell_type": "code",
      "execution_count": 16,
      "metadata": {
        "colab": {
          "base_uri": "https://localhost:8080/"
        },
        "id": "heaGvQi2VwSq",
        "outputId": "6926b567-d85c-4566-809a-0e8331299697"
      },
      "outputs": [
        {
          "name": "stdout",
          "output_type": "stream",
          "text": [
            "1\n",
            "torch.Size([3])\n",
            "tensor([1, 2, 3])\n"
          ]
        }
      ],
      "source": [
        "t1 = torch.tensor([1,2,3])\n",
        "print(t1.ndim)\n",
        "print(t1.shape)\n",
        "print(t1)"
      ]
    },
    {
      "cell_type": "markdown",
      "metadata": {
        "id": "2ADQMD8qWEkj"
      },
      "source": [
        "### 1-11-3. 2D Tensor(Vector)\n",
        "- 행렬과 같은 모양으로 두개의 축이 존재"
      ]
    },
    {
      "cell_type": "code",
      "execution_count": 17,
      "metadata": {
        "colab": {
          "base_uri": "https://localhost:8080/"
        },
        "id": "pkHl7WDBWKMK",
        "outputId": "20964e3f-2b06-4f47-a264-39f7fd1a1fb8"
      },
      "outputs": [
        {
          "name": "stdout",
          "output_type": "stream",
          "text": [
            "2\n",
            "torch.Size([2, 3])\n",
            "tensor([[1, 2, 3],\n",
            "        [4, 5, 6]])\n"
          ]
        }
      ],
      "source": [
        "t2 = torch.tensor([[1,2,3],[4,5,6]])\n",
        "print(t2.ndim)\n",
        "print(t2.shape)\n",
        "print(t2)"
      ]
    },
    {
      "cell_type": "markdown",
      "metadata": {
        "id": "R-wKsAlqWckW"
      },
      "source": [
        "### 1-11-4. 3D Tensor(Cube)\n",
        "- 큐브와 같은 형태로 세 개의 축이 존재"
      ]
    },
    {
      "cell_type": "code",
      "execution_count": 18,
      "metadata": {
        "colab": {
          "base_uri": "https://localhost:8080/"
        },
        "id": "_IE73VG4WqnW",
        "outputId": "18d51c9b-787d-42ac-cb2f-90baf4f082b0"
      },
      "outputs": [
        {
          "name": "stdout",
          "output_type": "stream",
          "text": [
            "3\n",
            "torch.Size([4, 3, 2])\n",
            "tensor([[[1, 2],\n",
            "         [4, 5],\n",
            "         [7, 8]],\n",
            "\n",
            "        [[1, 2],\n",
            "         [4, 5],\n",
            "         [7, 8]],\n",
            "\n",
            "        [[1, 2],\n",
            "         [4, 5],\n",
            "         [7, 8]],\n",
            "\n",
            "        [[1, 2],\n",
            "         [4, 5],\n",
            "         [7, 8]]])\n"
          ]
        }
      ],
      "source": [
        "t3 = torch.tensor([[[1,2], [4,5], [7,8]],\n",
        "                  [[1,2], [4,5], [7,8]],\n",
        "                  [[1,2], [4,5], [7,8]],\n",
        "                  [[1,2], [4,5], [7,8]]\n",
        "                  ])\n",
        "print(t3.ndim)\n",
        "print(t3.shape)\n",
        "print(t3)"
      ]
    },
    {
      "cell_type": "markdown",
      "metadata": {
        "id": "vLr3kIvnXbx5"
      },
      "source": [
        "### 1-11-5. 4D Tensor(Cube)\n",
        "- 큐브와 같은 형태로 네 개의 축이 존재"
      ]
    },
    {
      "cell_type": "code",
      "execution_count": 19,
      "metadata": {
        "colab": {
          "base_uri": "https://localhost:8080/"
        },
        "id": "x6ElMFxuXohV",
        "outputId": "48956de1-efc8-4627-f44c-36d3f2ecd0db"
      },
      "outputs": [
        {
          "data": {
            "text/plain": [
              "tensor([[[[6.9425e-01, 2.7672e-01, 2.4285e-01, 6.2511e-01, 8.7198e-01],\n",
              "          [5.7706e-01, 4.2826e-01, 1.7487e-01, 8.5186e-01, 1.1784e-01],\n",
              "          [2.2730e-01, 2.4367e-01, 4.4098e-01, 5.3804e-01, 2.3502e-01],\n",
              "          [5.4874e-02, 9.4427e-01, 7.8201e-01, 3.8484e-01, 7.9443e-01]],\n",
              "\n",
              "         [[8.7931e-01, 3.4106e-01, 2.6053e-01, 1.3790e-01, 2.5918e-01],\n",
              "          [5.9871e-01, 7.2092e-01, 8.5111e-01, 1.1038e-01, 6.2164e-01],\n",
              "          [5.7550e-01, 3.5856e-01, 9.8333e-01, 8.1529e-01, 7.9434e-01],\n",
              "          [8.2112e-02, 5.5684e-01, 5.3260e-01, 2.0680e-01, 4.7136e-01]],\n",
              "\n",
              "         [[2.3832e-01, 2.4270e-01, 6.5034e-01, 5.6555e-01, 6.9703e-01],\n",
              "          [5.4349e-01, 9.7030e-01, 6.9102e-02, 4.6625e-02, 6.8385e-01],\n",
              "          [7.6686e-01, 3.3701e-02, 2.4695e-01, 9.9535e-01, 6.2857e-01],\n",
              "          [1.3560e-01, 7.5621e-01, 3.3886e-01, 5.7932e-02, 2.9974e-01]]],\n",
              "\n",
              "\n",
              "        [[[3.3941e-01, 2.0214e-02, 1.6398e-01, 6.5642e-01, 6.7515e-01],\n",
              "          [2.0235e-01, 2.2560e-04, 6.2276e-01, 5.0535e-03, 5.8301e-01],\n",
              "          [6.2262e-01, 5.6187e-01, 6.9002e-01, 6.0715e-01, 2.5059e-01],\n",
              "          [4.0497e-01, 9.0048e-01, 1.3615e-01, 2.2246e-02, 3.4095e-01]],\n",
              "\n",
              "         [[8.8470e-01, 7.2899e-01, 2.4153e-01, 8.7413e-01, 8.2300e-01],\n",
              "          [9.3926e-01, 6.6400e-01, 9.5858e-01, 9.3039e-01, 8.2474e-01],\n",
              "          [2.7428e-01, 7.0675e-01, 6.3532e-02, 3.4980e-01, 7.5759e-01],\n",
              "          [8.3287e-01, 4.4571e-01, 8.8852e-01, 3.6711e-01, 4.4786e-01]],\n",
              "\n",
              "         [[2.3682e-02, 8.3007e-01, 3.8899e-01, 9.6976e-01, 6.5936e-01],\n",
              "          [1.6460e-01, 5.5887e-01, 6.4248e-01, 7.2893e-01, 5.5562e-01],\n",
              "          [4.3404e-01, 3.8889e-01, 9.8966e-01, 9.7719e-01, 1.8353e-01],\n",
              "          [6.7864e-01, 9.6096e-01, 2.5288e-01, 3.1879e-01, 5.7763e-01]]]])"
            ]
          },
          "execution_count": 19,
          "metadata": {},
          "output_type": "execute_result"
        }
      ],
      "source": [
        "t4 = torch.rand(2,3,4,5)\n",
        "t4"
      ]
    }
  ],
  "metadata": {
    "accelerator": "GPU",
    "colab": {
      "gpuType": "T4",
      "provenance": []
    },
    "kernelspec": {
      "display_name": "pytorch_env",
      "language": "python",
      "name": "python3"
    },
    "language_info": {
      "codemirror_mode": {
        "name": "ipython",
        "version": 3
      },
      "file_extension": ".py",
      "mimetype": "text/x-python",
      "name": "python",
      "nbconvert_exporter": "python",
      "pygments_lexer": "ipython3",
      "version": "3.12.8"
    }
  },
  "nbformat": 4,
  "nbformat_minor": 0
}
